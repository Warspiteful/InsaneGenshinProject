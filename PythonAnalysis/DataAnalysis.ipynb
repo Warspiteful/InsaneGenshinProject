{
 "cells": [
  {
   "cell_type": "code",
   "execution_count": 119,
   "metadata": {},
   "outputs": [],
   "source": [
    "import numpy as np # linear algebra\n",
    "import sklearn\n",
    "\n",
    "import pandas as pd # data processing, CSV file I/O (e.g. pd.read_csv)\n",
    "import seaborn as sns\n",
    "import matplotlib.pyplot as plt\n",
    "from sklearn.preprocessing import LabelEncoder"
   ]
  },
  {
   "cell_type": "code",
   "execution_count": 120,
   "metadata": {},
   "outputs": [],
   "source": [
    "file_path = \"Absolute_Genshin_DB.csv\"\n",
    "df = pd.read_csv(file_path)"
   ]
  },
  {
   "cell_type": "code",
   "execution_count": 121,
   "metadata": {},
   "outputs": [
    {
     "data": {
      "text/plain": [
       "Index(['charName', 'Gender', 'Element', 'Weapon', 'Region', 'f_val', 'm_val',\n",
       "       'k_val', 'sum'],\n",
       "      dtype='object')"
      ]
     },
     "execution_count": 121,
     "metadata": {},
     "output_type": "execute_result"
    }
   ],
   "source": [
    "df.columns"
   ]
  },
  {
   "cell_type": "code",
   "execution_count": 122,
   "metadata": {},
   "outputs": [
    {
     "data": {
      "text/plain": [
       "charName    object\n",
       "Gender      object\n",
       "Element     object\n",
       "Weapon      object\n",
       "Region      object\n",
       "f_val        int64\n",
       "m_val        int64\n",
       "k_val        int64\n",
       "sum          int64\n",
       "dtype: object"
      ]
     },
     "execution_count": 122,
     "metadata": {},
     "output_type": "execute_result"
    }
   ],
   "source": [
    "df.dtypes"
   ]
  },
  {
   "cell_type": "code",
   "execution_count": 123,
   "metadata": {},
   "outputs": [
    {
     "data": {
      "text/html": [
       "<div>\n",
       "<style scoped>\n",
       "    .dataframe tbody tr th:only-of-type {\n",
       "        vertical-align: middle;\n",
       "    }\n",
       "\n",
       "    .dataframe tbody tr th {\n",
       "        vertical-align: top;\n",
       "    }\n",
       "\n",
       "    .dataframe thead th {\n",
       "        text-align: right;\n",
       "    }\n",
       "</style>\n",
       "<table border=\"1\" class=\"dataframe\">\n",
       "  <thead>\n",
       "    <tr style=\"text-align: right;\">\n",
       "      <th></th>\n",
       "      <th>charName</th>\n",
       "      <th>Gender</th>\n",
       "      <th>Element</th>\n",
       "      <th>Weapon</th>\n",
       "      <th>Region</th>\n",
       "      <th>f_val</th>\n",
       "      <th>m_val</th>\n",
       "      <th>k_val</th>\n",
       "      <th>sum</th>\n",
       "    </tr>\n",
       "  </thead>\n",
       "  <tbody>\n",
       "    <tr>\n",
       "      <th>0</th>\n",
       "      <td>Shikanoin Heizou</td>\n",
       "      <td>Male</td>\n",
       "      <td>Anemo</td>\n",
       "      <td>Catalyst</td>\n",
       "      <td>Inazuma</td>\n",
       "      <td>0</td>\n",
       "      <td>1</td>\n",
       "      <td>0</td>\n",
       "      <td>1</td>\n",
       "    </tr>\n",
       "    <tr>\n",
       "      <th>1</th>\n",
       "      <td>Albedo</td>\n",
       "      <td>Male</td>\n",
       "      <td>Geo</td>\n",
       "      <td>Sword</td>\n",
       "      <td>Mondstadt</td>\n",
       "      <td>3</td>\n",
       "      <td>6</td>\n",
       "      <td>11</td>\n",
       "      <td>20</td>\n",
       "    </tr>\n",
       "    <tr>\n",
       "      <th>2</th>\n",
       "      <td>Amber</td>\n",
       "      <td>Female</td>\n",
       "      <td>Pyro</td>\n",
       "      <td>Bow</td>\n",
       "      <td>Mondstadt</td>\n",
       "      <td>1</td>\n",
       "      <td>7</td>\n",
       "      <td>5</td>\n",
       "      <td>13</td>\n",
       "    </tr>\n",
       "    <tr>\n",
       "      <th>3</th>\n",
       "      <td>Arataki Itto</td>\n",
       "      <td>Male</td>\n",
       "      <td>Geo</td>\n",
       "      <td>Claymore</td>\n",
       "      <td>Inazuma</td>\n",
       "      <td>8</td>\n",
       "      <td>11</td>\n",
       "      <td>1</td>\n",
       "      <td>20</td>\n",
       "    </tr>\n",
       "    <tr>\n",
       "      <th>4</th>\n",
       "      <td>Beidou</td>\n",
       "      <td>Female</td>\n",
       "      <td>Electro</td>\n",
       "      <td>Claymore</td>\n",
       "      <td>Liyue</td>\n",
       "      <td>16</td>\n",
       "      <td>10</td>\n",
       "      <td>1</td>\n",
       "      <td>27</td>\n",
       "    </tr>\n",
       "  </tbody>\n",
       "</table>\n",
       "</div>"
      ],
      "text/plain": [
       "            charName  Gender  Element    Weapon     Region  f_val  m_val  \\\n",
       "0  Shikanoin Heizou     Male    Anemo  Catalyst    Inazuma      0      1   \n",
       "1             Albedo    Male      Geo     Sword  Mondstadt      3      6   \n",
       "2              Amber  Female     Pyro       Bow  Mondstadt      1      7   \n",
       "3       Arataki Itto    Male      Geo  Claymore    Inazuma      8     11   \n",
       "4             Beidou  Female  Electro  Claymore      Liyue     16     10   \n",
       "\n",
       "   k_val  sum  \n",
       "0      0    1  \n",
       "1     11   20  \n",
       "2      5   13  \n",
       "3      1   20  \n",
       "4      1   27  "
      ]
     },
     "execution_count": 123,
     "metadata": {},
     "output_type": "execute_result"
    }
   ],
   "source": [
    "df.head()"
   ]
  },
  {
   "cell_type": "code",
   "execution_count": 124,
   "metadata": {},
   "outputs": [
    {
     "data": {
      "text/plain": [
       "Female    24\n",
       "Male      13\n",
       "Name: Gender, dtype: int64"
      ]
     },
     "execution_count": 124,
     "metadata": {},
     "output_type": "execute_result"
    }
   ],
   "source": [
    "df['Gender'].value_counts()"
   ]
  },
  {
   "cell_type": "code",
   "execution_count": 125,
   "metadata": {},
   "outputs": [
    {
     "data": {
      "text/plain": [
       "Pyro       7\n",
       "Electro    7\n",
       "Anemo      6\n",
       "Geo        6\n",
       "Cryo       6\n",
       "Hydro      5\n",
       "Name: Element, dtype: int64"
      ]
     },
     "execution_count": 125,
     "metadata": {},
     "output_type": "execute_result"
    }
   ],
   "source": [
    "df['Element'].value_counts()"
   ]
  },
  {
   "cell_type": "code",
   "execution_count": 126,
   "metadata": {},
   "outputs": [
    {
     "data": {
      "text/plain": [
       "Catalyst    9\n",
       "Sword       8\n",
       "Bow         8\n",
       "Polearm     7\n",
       "Claymore    5\n",
       "Name: Weapon, dtype: int64"
      ]
     },
     "execution_count": 126,
     "metadata": {},
     "output_type": "execute_result"
    }
   ],
   "source": [
    "df['Weapon'].value_counts()"
   ]
  },
  {
   "cell_type": "code",
   "execution_count": 127,
   "metadata": {},
   "outputs": [
    {
     "data": {
      "text/plain": [
       "Inazuma      13\n",
       "Liyue        12\n",
       "Mondstadt    11\n",
       "Snezhnaya     1\n",
       "Name: Region, dtype: int64"
      ]
     },
     "execution_count": 127,
     "metadata": {},
     "output_type": "execute_result"
    }
   ],
   "source": [
    "df['Region'].value_counts()"
   ]
  },
  {
   "cell_type": "code",
   "execution_count": 128,
   "metadata": {},
   "outputs": [
    {
     "data": {
      "text/plain": [
       "Female    0.648649\n",
       "Male      0.351351\n",
       "Name: Gender, dtype: float64"
      ]
     },
     "execution_count": 128,
     "metadata": {},
     "output_type": "execute_result"
    }
   ],
   "source": [
    "df['Gender'].value_counts(normalize=True)"
   ]
  },
  {
   "cell_type": "code",
   "execution_count": 129,
   "metadata": {},
   "outputs": [
    {
     "data": {
      "text/plain": [
       "Pyro       0.189189\n",
       "Electro    0.189189\n",
       "Anemo      0.162162\n",
       "Geo        0.162162\n",
       "Cryo       0.162162\n",
       "Hydro      0.135135\n",
       "Name: Element, dtype: float64"
      ]
     },
     "execution_count": 129,
     "metadata": {},
     "output_type": "execute_result"
    }
   ],
   "source": [
    "df['Element'].value_counts(normalize=True)"
   ]
  },
  {
   "cell_type": "code",
   "execution_count": 130,
   "metadata": {},
   "outputs": [
    {
     "data": {
      "text/plain": [
       "Catalyst    0.243243\n",
       "Sword       0.216216\n",
       "Bow         0.216216\n",
       "Polearm     0.189189\n",
       "Claymore    0.135135\n",
       "Name: Weapon, dtype: float64"
      ]
     },
     "execution_count": 130,
     "metadata": {},
     "output_type": "execute_result"
    }
   ],
   "source": [
    "df['Weapon'].value_counts(normalize=True)"
   ]
  },
  {
   "cell_type": "code",
   "execution_count": 131,
   "metadata": {},
   "outputs": [
    {
     "data": {
      "text/plain": [
       "Inazuma      0.351351\n",
       "Liyue        0.324324\n",
       "Mondstadt    0.297297\n",
       "Snezhnaya    0.027027\n",
       "Name: Region, dtype: float64"
      ]
     },
     "execution_count": 131,
     "metadata": {},
     "output_type": "execute_result"
    }
   ],
   "source": [
    "df['Region'].value_counts(normalize=True)"
   ]
  },
  {
   "cell_type": "code",
   "execution_count": 132,
   "metadata": {},
   "outputs": [
    {
     "name": "stdout",
     "output_type": "stream",
     "text": [
      "23.027027027027028\n"
     ]
    }
   ],
   "source": [
    "average = df['sum'].mean()\n",
    "print(average)\n"
   ]
  },
  {
   "cell_type": "code",
   "execution_count": 133,
   "metadata": {},
   "outputs": [],
   "source": [
    "df['f_avg'] = df['f_val'] / average\n",
    "df['m_avg'] = df['m_val'] / average\n",
    "df['k_avg'] = df['k_val'] / average"
   ]
  },
  {
   "cell_type": "code",
   "execution_count": 134,
   "metadata": {},
   "outputs": [
    {
     "name": "stdout",
     "output_type": "stream",
     "text": [
      "            charName  Gender  Element    Weapon     Region  f_val  m_val  \\\n",
      "0  Shikanoin Heizou     Male    Anemo  Catalyst    Inazuma      0      1   \n",
      "1             Albedo    Male      Geo     Sword  Mondstadt      3      6   \n",
      "2              Amber  Female     Pyro       Bow  Mondstadt      1      7   \n",
      "3       Arataki Itto    Male      Geo  Claymore    Inazuma      8     11   \n",
      "4             Beidou  Female  Electro  Claymore      Liyue     16     10   \n",
      "\n",
      "   k_val  sum     f_avg     m_avg     k_avg  \n",
      "0      0    1  0.000000  0.043427  0.000000  \n",
      "1     11   20  0.130282  0.260563  0.477700  \n",
      "2      5   13  0.043427  0.303991  0.217136  \n",
      "3      1   20  0.347418  0.477700  0.043427  \n",
      "4      1   27  0.694836  0.434272  0.043427  \n"
     ]
    }
   ],
   "source": [
    "print(df.head())"
   ]
  },
  {
   "cell_type": "code",
   "execution_count": 135,
   "metadata": {},
   "outputs": [
    {
     "data": {
      "text/plain": [
       "<AxesSubplot:xlabel='f_avg', ylabel='Count'>"
      ]
     },
     "execution_count": 135,
     "metadata": {},
     "output_type": "execute_result"
    },
    {
     "data": {
      "image/png": "[encoded data removed]",
      "text/plain": [
       "<Figure size 432x288 with 1 Axes>"
      ]
     },
     "metadata": {
      "needs_background": "light"
     },
     "output_type": "display_data"
    }
   ],
   "source": [
    "sns.histplot(df['f_avg'])"
   ]
  },
  {
   "cell_type": "code",
   "execution_count": 136,
   "metadata": {},
   "outputs": [
    {
     "data": {
      "text/plain": [
       "<AxesSubplot:xlabel='m_avg', ylabel='Count'>"
      ]
     },
     "execution_count": 136,
     "metadata": {},
     "output_type": "execute_result"
    },
    {
     "data": {
      "image/png": "[encoded data removed]",
      "text/plain": [
       "<Figure size 432x288 with 1 Axes>"
      ]
     },
     "metadata": {
      "needs_background": "light"
     },
     "output_type": "display_data"
    }
   ],
   "source": [
    "sns.histplot(df['m_avg'])"
   ]
  },
  {
   "cell_type": "code",
   "execution_count": 137,
   "metadata": {},
   "outputs": [
    {
     "data": {
      "text/plain": [
       "<AxesSubplot:xlabel='k_avg', ylabel='Count'>"
      ]
     },
     "execution_count": 137,
     "metadata": {},
     "output_type": "execute_result"
    },
    {
     "data": {
      "image/png": "[encoded data removed]",
      "text/plain": [
       "<Figure size 432x288 with 1 Axes>"
      ]
     },
     "metadata": {
      "needs_background": "light"
     },
     "output_type": "display_data"
    }
   ],
   "source": [
    "sns.histplot(df['k_avg'])"
   ]
  },
  {
   "cell_type": "code",
   "execution_count": 138,
   "metadata": {},
   "outputs": [
    {
     "name": "stdout",
     "output_type": "stream",
     "text": [
      "Skewness: 1.256135\n",
      "Kurtosis: 2.780699\n"
     ]
    }
   ],
   "source": [
    "#describe the shape and distribution of the scores\n",
    "#skewness and kurtosis\n",
    "print(\"Skewness: %f\" % df['f_avg'].skew())\n",
    "print(\"Kurtosis: %f\" % df['f_avg'].kurt())"
   ]
  },
  {
   "cell_type": "code",
   "execution_count": 139,
   "metadata": {},
   "outputs": [
    {
     "name": "stdout",
     "output_type": "stream",
     "text": [
      "Skewness: 0.788960\n",
      "Kurtosis: 0.640920\n"
     ]
    }
   ],
   "source": [
    "#describe the shape and distribution of the scores\n",
    "#skewness and kurtosis\n",
    "print(\"Skewness: %f\" % df['m_avg'].skew())\n",
    "print(\"Kurtosis: %f\" % df['m_avg'].kurt())"
   ]
  },
  {
   "cell_type": "code",
   "execution_count": 140,
   "metadata": {},
   "outputs": [
    {
     "name": "stdout",
     "output_type": "stream",
     "text": [
      "Skewness: 1.094712\n",
      "Kurtosis: 0.769328\n"
     ]
    }
   ],
   "source": [
    "#describe the shape and distribution of the scores\n",
    "#skewness and kurtosis\n",
    "print(\"Skewness: %f\" % df['k_avg'].skew())\n",
    "print(\"Kurtosis: %f\" % df['k_avg'].kurt())"
   ]
  },
  {
   "attachments": {},
   "cell_type": "markdown",
   "metadata": {},
   "source": [
    "Analysis of Characters for Max and Min F score"
   ]
  },
  {
   "cell_type": "code",
   "execution_count": 141,
   "metadata": {},
   "outputs": [
    {
     "name": "stdout",
     "output_type": "stream",
     "text": [
      "The lowest fuckability score was 0.0\n",
      "The highest fuckability score was 1.3028169014084507\n"
     ]
    }
   ],
   "source": [
    "print(\"The lowest fuckability score was\", df['f_avg'].min())\n",
    "print(\"The highest fuckability score was\", df['f_avg'].max())"
   ]
  },
  {
   "cell_type": "code",
   "execution_count": 142,
   "metadata": {},
   "outputs": [],
   "source": [
    "#create filters\n",
    "lowest = (df['f_avg'] == df['f_avg'].min())\n",
    "highest = (df['f_avg'] == df['f_avg'].max())"
   ]
  },
  {
   "cell_type": "code",
   "execution_count": 143,
   "metadata": {},
   "outputs": [
    {
     "name": "stdout",
     "output_type": "stream",
     "text": [
      "The Character with the lowest fuckability score is \n",
      " 0     Shikanoin Heizou \n",
      "25              Sucrose\n",
      "27                Venti\n",
      "Name: charName, dtype: object\n",
      "The Character with the highest fuckability is \n",
      " 19    Mona\n",
      "Name: charName, dtype: object\n"
     ]
    }
   ],
   "source": [
    "print(\"The Character with the lowest fuckability score is \\n\",df.loc[df['f_avg'] == df['f_avg'].min(), 'charName'])\n",
    "print(\"The Character with the highest fuckability is \\n\", df.loc[df['f_avg'] == df['f_avg'].max(), 'charName'])"
   ]
  },
  {
   "cell_type": "code",
   "execution_count": 144,
   "metadata": {},
   "outputs": [
    {
     "data": {
      "text/html": [
       "<div>\n",
       "<style scoped>\n",
       "    .dataframe tbody tr th:only-of-type {\n",
       "        vertical-align: middle;\n",
       "    }\n",
       "\n",
       "    .dataframe tbody tr th {\n",
       "        vertical-align: top;\n",
       "    }\n",
       "\n",
       "    .dataframe thead th {\n",
       "        text-align: right;\n",
       "    }\n",
       "</style>\n",
       "<table border=\"1\" class=\"dataframe\">\n",
       "  <thead>\n",
       "    <tr style=\"text-align: right;\">\n",
       "      <th></th>\n",
       "      <th>f_avg</th>\n",
       "      <th>charName</th>\n",
       "      <th>Gender</th>\n",
       "      <th>Element</th>\n",
       "      <th>Weapon</th>\n",
       "      <th>Region</th>\n",
       "    </tr>\n",
       "  </thead>\n",
       "  <tbody>\n",
       "    <tr>\n",
       "      <th>19</th>\n",
       "      <td>1.302817</td>\n",
       "      <td>Mona</td>\n",
       "      <td>Female</td>\n",
       "      <td>Hydro</td>\n",
       "      <td>Catalyst</td>\n",
       "      <td>Mondstadt</td>\n",
       "    </tr>\n",
       "    <tr>\n",
       "      <th>4</th>\n",
       "      <td>0.694836</td>\n",
       "      <td>Beidou</td>\n",
       "      <td>Female</td>\n",
       "      <td>Electro</td>\n",
       "      <td>Claymore</td>\n",
       "      <td>Liyue</td>\n",
       "    </tr>\n",
       "    <tr>\n",
       "      <th>28</th>\n",
       "      <td>0.694836</td>\n",
       "      <td>Yae Miko</td>\n",
       "      <td>Female</td>\n",
       "      <td>Electro</td>\n",
       "      <td>Catalyst</td>\n",
       "      <td>Inazuma</td>\n",
       "    </tr>\n",
       "    <tr>\n",
       "      <th>34</th>\n",
       "      <td>0.694836</td>\n",
       "      <td>Yelan</td>\n",
       "      <td>Female</td>\n",
       "      <td>Hydro</td>\n",
       "      <td>Bow</td>\n",
       "      <td>Liyue</td>\n",
       "    </tr>\n",
       "    <tr>\n",
       "      <th>21</th>\n",
       "      <td>0.694836</td>\n",
       "      <td>Raiden Shogun</td>\n",
       "      <td>Female</td>\n",
       "      <td>Electro</td>\n",
       "      <td>Polearm</td>\n",
       "      <td>Inazuma</td>\n",
       "    </tr>\n",
       "  </tbody>\n",
       "</table>\n",
       "</div>"
      ],
      "text/plain": [
       "       f_avg       charName  Gender  Element    Weapon     Region\n",
       "19  1.302817           Mona  Female    Hydro  Catalyst  Mondstadt\n",
       "4   0.694836         Beidou  Female  Electro  Claymore      Liyue\n",
       "28  0.694836       Yae Miko  Female  Electro  Catalyst    Inazuma\n",
       "34  0.694836          Yelan  Female    Hydro       Bow      Liyue\n",
       "21  0.694836  Raiden Shogun  Female  Electro   Polearm    Inazuma"
      ]
     },
     "execution_count": 144,
     "metadata": {},
     "output_type": "execute_result"
    }
   ],
   "source": [
    "df.sort_values(by=['f_avg'], ascending = False, inplace = True)\n",
    "df[['f_avg', 'charName','Gender', 'Element','Weapon','Region']].head(5)"
   ]
  },
  {
   "cell_type": "code",
   "execution_count": 145,
   "metadata": {},
   "outputs": [
    {
     "data": {
      "text/html": [
       "<div>\n",
       "<style scoped>\n",
       "    .dataframe tbody tr th:only-of-type {\n",
       "        vertical-align: middle;\n",
       "    }\n",
       "\n",
       "    .dataframe tbody tr th {\n",
       "        vertical-align: top;\n",
       "    }\n",
       "\n",
       "    .dataframe thead th {\n",
       "        text-align: right;\n",
       "    }\n",
       "</style>\n",
       "<table border=\"1\" class=\"dataframe\">\n",
       "  <thead>\n",
       "    <tr style=\"text-align: right;\">\n",
       "      <th></th>\n",
       "      <th>f_avg</th>\n",
       "      <th>charName</th>\n",
       "      <th>Gender</th>\n",
       "      <th>Element</th>\n",
       "      <th>Weapon</th>\n",
       "      <th>Region</th>\n",
       "    </tr>\n",
       "  </thead>\n",
       "  <tbody>\n",
       "    <tr>\n",
       "      <th>0</th>\n",
       "      <td>0.000000</td>\n",
       "      <td>Shikanoin Heizou</td>\n",
       "      <td>Male</td>\n",
       "      <td>Anemo</td>\n",
       "      <td>Catalyst</td>\n",
       "      <td>Inazuma</td>\n",
       "    </tr>\n",
       "    <tr>\n",
       "      <th>25</th>\n",
       "      <td>0.000000</td>\n",
       "      <td>Sucrose</td>\n",
       "      <td>Female</td>\n",
       "      <td>Anemo</td>\n",
       "      <td>Catalyst</td>\n",
       "      <td>Mondstadt</td>\n",
       "    </tr>\n",
       "    <tr>\n",
       "      <th>27</th>\n",
       "      <td>0.000000</td>\n",
       "      <td>Venti</td>\n",
       "      <td>Male</td>\n",
       "      <td>Anemo</td>\n",
       "      <td>Bow</td>\n",
       "      <td>Mondstadt</td>\n",
       "    </tr>\n",
       "    <tr>\n",
       "      <th>2</th>\n",
       "      <td>0.043427</td>\n",
       "      <td>Amber</td>\n",
       "      <td>Female</td>\n",
       "      <td>Pyro</td>\n",
       "      <td>Bow</td>\n",
       "      <td>Mondstadt</td>\n",
       "    </tr>\n",
       "    <tr>\n",
       "      <th>33</th>\n",
       "      <td>0.043427</td>\n",
       "      <td>Xiao</td>\n",
       "      <td>Male</td>\n",
       "      <td>Anemo</td>\n",
       "      <td>Polearm</td>\n",
       "      <td>Liyue</td>\n",
       "    </tr>\n",
       "  </tbody>\n",
       "</table>\n",
       "</div>"
      ],
      "text/plain": [
       "       f_avg           charName  Gender Element    Weapon     Region\n",
       "0   0.000000  Shikanoin Heizou     Male   Anemo  Catalyst    Inazuma\n",
       "25  0.000000            Sucrose  Female   Anemo  Catalyst  Mondstadt\n",
       "27  0.000000              Venti    Male   Anemo       Bow  Mondstadt\n",
       "2   0.043427              Amber  Female    Pyro       Bow  Mondstadt\n",
       "33  0.043427               Xiao    Male   Anemo   Polearm      Liyue"
      ]
     },
     "execution_count": 145,
     "metadata": {},
     "output_type": "execute_result"
    }
   ],
   "source": [
    "df.sort_values(by=['f_avg'], ascending = True, inplace = True)\n",
    "df[['f_avg', 'charName','Gender', 'Element','Weapon','Region']].head(5)"
   ]
  },
  {
   "attachments": {},
   "cell_type": "markdown",
   "metadata": {},
   "source": [
    "Analysis of Characters for Marriage Scores"
   ]
  },
  {
   "cell_type": "code",
   "execution_count": 146,
   "metadata": {},
   "outputs": [
    {
     "name": "stdout",
     "output_type": "stream",
     "text": [
      "The lowest marriage score was 0.04342723004694835\n",
      "The highest marriage score was 0.7816901408450704\n"
     ]
    }
   ],
   "source": [
    "print(\"The lowest marriage score was\", df['m_avg'].min())\n",
    "print(\"The highest marriage score was\", df['m_avg'].max())"
   ]
  },
  {
   "cell_type": "code",
   "execution_count": 147,
   "metadata": {},
   "outputs": [
    {
     "name": "stdout",
     "output_type": "stream",
     "text": [
      "The Character with the lowest marriagability score is \n",
      " 0     Shikanoin Heizou \n",
      "33                 Xiao\n",
      "Name: charName, dtype: object\n",
      "The Character with the marriagability score is \n",
      " 26      Thoma\n",
      "16     Keqing\n",
      "30    Yoimiya\n",
      "Name: charName, dtype: object\n"
     ]
    }
   ],
   "source": [
    "print(\"The Character with the lowest marriagability score is \\n\",df.loc[df['m_avg'] == df['m_avg'].min(), 'charName'])\n",
    "print(\"The Character with the marriagability score is \\n\", df.loc[df['m_avg'] == df['m_avg'].max(), 'charName'])"
   ]
  },
  {
   "cell_type": "code",
   "execution_count": 150,
   "metadata": {},
   "outputs": [
    {
     "data": {
      "text/html": [
       "<div>\n",
       "<style scoped>\n",
       "    .dataframe tbody tr th:only-of-type {\n",
       "        vertical-align: middle;\n",
       "    }\n",
       "\n",
       "    .dataframe tbody tr th {\n",
       "        vertical-align: top;\n",
       "    }\n",
       "\n",
       "    .dataframe thead th {\n",
       "        text-align: right;\n",
       "    }\n",
       "</style>\n",
       "<table border=\"1\" class=\"dataframe\">\n",
       "  <thead>\n",
       "    <tr style=\"text-align: right;\">\n",
       "      <th></th>\n",
       "      <th>m_avg</th>\n",
       "      <th>charName</th>\n",
       "      <th>Gender</th>\n",
       "      <th>Element</th>\n",
       "      <th>Weapon</th>\n",
       "      <th>Region</th>\n",
       "    </tr>\n",
       "  </thead>\n",
       "  <tbody>\n",
       "    <tr>\n",
       "      <th>30</th>\n",
       "      <td>0.781690</td>\n",
       "      <td>Yoimiya</td>\n",
       "      <td>Female</td>\n",
       "      <td>Pyro</td>\n",
       "      <td>Bow</td>\n",
       "      <td>Inazuma</td>\n",
       "    </tr>\n",
       "    <tr>\n",
       "      <th>26</th>\n",
       "      <td>0.781690</td>\n",
       "      <td>Thoma</td>\n",
       "      <td>Male</td>\n",
       "      <td>Pyro</td>\n",
       "      <td>Polearm</td>\n",
       "      <td>Inazuma</td>\n",
       "    </tr>\n",
       "    <tr>\n",
       "      <th>16</th>\n",
       "      <td>0.781690</td>\n",
       "      <td>Keqing</td>\n",
       "      <td>Female</td>\n",
       "      <td>Electro</td>\n",
       "      <td>Sword</td>\n",
       "      <td>Liyue</td>\n",
       "    </tr>\n",
       "    <tr>\n",
       "      <th>35</th>\n",
       "      <td>0.521127</td>\n",
       "      <td>Kuki Shinobu</td>\n",
       "      <td>Female</td>\n",
       "      <td>Electro</td>\n",
       "      <td>Sword</td>\n",
       "      <td>Inazuma</td>\n",
       "    </tr>\n",
       "    <tr>\n",
       "      <th>31</th>\n",
       "      <td>0.521127</td>\n",
       "      <td>Yun Jin</td>\n",
       "      <td>Female</td>\n",
       "      <td>Geo</td>\n",
       "      <td>Polearm</td>\n",
       "      <td>Liyue</td>\n",
       "    </tr>\n",
       "  </tbody>\n",
       "</table>\n",
       "</div>"
      ],
      "text/plain": [
       "       m_avg      charName  Gender  Element   Weapon   Region\n",
       "30  0.781690       Yoimiya  Female     Pyro      Bow  Inazuma\n",
       "26  0.781690         Thoma    Male     Pyro  Polearm  Inazuma\n",
       "16  0.781690        Keqing  Female  Electro    Sword    Liyue\n",
       "35  0.521127  Kuki Shinobu  Female  Electro    Sword  Inazuma\n",
       "31  0.521127       Yun Jin  Female      Geo  Polearm    Liyue"
      ]
     },
     "execution_count": 150,
     "metadata": {},
     "output_type": "execute_result"
    }
   ],
   "source": [
    "df.sort_values(by=['m_avg'], ascending = False, inplace = True)\n",
    "df[['m_avg', 'charName','Gender', 'Element','Weapon','Region']].head(5)"
   ]
  },
  {
   "cell_type": "code",
   "execution_count": 151,
   "metadata": {},
   "outputs": [
    {
     "data": {
      "text/html": [
       "<div>\n",
       "<style scoped>\n",
       "    .dataframe tbody tr th:only-of-type {\n",
       "        vertical-align: middle;\n",
       "    }\n",
       "\n",
       "    .dataframe tbody tr th {\n",
       "        vertical-align: top;\n",
       "    }\n",
       "\n",
       "    .dataframe thead th {\n",
       "        text-align: right;\n",
       "    }\n",
       "</style>\n",
       "<table border=\"1\" class=\"dataframe\">\n",
       "  <thead>\n",
       "    <tr style=\"text-align: right;\">\n",
       "      <th></th>\n",
       "      <th>m_avg</th>\n",
       "      <th>charName</th>\n",
       "      <th>Gender</th>\n",
       "      <th>Element</th>\n",
       "      <th>Weapon</th>\n",
       "      <th>Region</th>\n",
       "    </tr>\n",
       "  </thead>\n",
       "  <tbody>\n",
       "    <tr>\n",
       "      <th>0</th>\n",
       "      <td>0.043427</td>\n",
       "      <td>Shikanoin Heizou</td>\n",
       "      <td>Male</td>\n",
       "      <td>Anemo</td>\n",
       "      <td>Catalyst</td>\n",
       "      <td>Inazuma</td>\n",
       "    </tr>\n",
       "    <tr>\n",
       "      <th>33</th>\n",
       "      <td>0.043427</td>\n",
       "      <td>Xiao</td>\n",
       "      <td>Male</td>\n",
       "      <td>Anemo</td>\n",
       "      <td>Polearm</td>\n",
       "      <td>Liyue</td>\n",
       "    </tr>\n",
       "    <tr>\n",
       "      <th>5</th>\n",
       "      <td>0.086854</td>\n",
       "      <td>Childe</td>\n",
       "      <td>Male</td>\n",
       "      <td>Hydro</td>\n",
       "      <td>Bow</td>\n",
       "      <td>Snezhnaya</td>\n",
       "    </tr>\n",
       "    <tr>\n",
       "      <th>17</th>\n",
       "      <td>0.086854</td>\n",
       "      <td>Kujou Sara</td>\n",
       "      <td>Female</td>\n",
       "      <td>Electro</td>\n",
       "      <td>Bow</td>\n",
       "      <td>Inazuma</td>\n",
       "    </tr>\n",
       "    <tr>\n",
       "      <th>21</th>\n",
       "      <td>0.130282</td>\n",
       "      <td>Raiden Shogun</td>\n",
       "      <td>Female</td>\n",
       "      <td>Electro</td>\n",
       "      <td>Polearm</td>\n",
       "      <td>Inazuma</td>\n",
       "    </tr>\n",
       "  </tbody>\n",
       "</table>\n",
       "</div>"
      ],
      "text/plain": [
       "       m_avg           charName  Gender  Element    Weapon     Region\n",
       "0   0.043427  Shikanoin Heizou     Male    Anemo  Catalyst    Inazuma\n",
       "33  0.043427               Xiao    Male    Anemo   Polearm      Liyue\n",
       "5   0.086854             Childe    Male    Hydro       Bow  Snezhnaya\n",
       "17  0.086854         Kujou Sara  Female  Electro       Bow    Inazuma\n",
       "21  0.130282      Raiden Shogun  Female  Electro   Polearm    Inazuma"
      ]
     },
     "execution_count": 151,
     "metadata": {},
     "output_type": "execute_result"
    }
   ],
   "source": [
    "df.sort_values(by=['m_avg'], ascending = True, inplace = True)\n",
    "df[['m_avg', 'charName','Gender', 'Element','Weapon','Region']].head(5)"
   ]
  },
  {
   "attachments": {},
   "cell_type": "markdown",
   "metadata": {},
   "source": [
    "Analysis of Characters for Kill Scores"
   ]
  },
  {
   "cell_type": "code",
   "execution_count": null,
   "metadata": {},
   "outputs": [],
   "source": [
    "print(\"The lowest marriage score was\", df['k_avg'].min())\n",
    "print(\"The highest marriage score was\", df['k_avg'].max())"
   ]
  }
 ],
 "metadata": {
  "kernelspec": {
   "display_name": "Python 3",
   "language": "python",
   "name": "python3"
  },
  "language_info": {
   "codemirror_mode": {
    "name": "ipython",
    "version": 3
   },
   "file_extension": ".py",
   "mimetype": "text/x-python",
   "name": "python",
   "nbconvert_exporter": "python",
   "pygments_lexer": "ipython3",
   "version": "3.10.0"
  },
  "orig_nbformat": 4,
  "vscode": {
   "interpreter": {
    "hash": "366a16882a9b8169325c3739cda6d81236cd925ddae338fbe93f1dcbd4762388"
   }
  }
 },
 "nbformat": 4,
 "nbformat_minor": 2
}
